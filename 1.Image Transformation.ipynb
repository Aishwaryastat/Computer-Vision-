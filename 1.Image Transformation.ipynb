{
 "cells": [
  {
   "cell_type": "markdown",
   "id": "3c950cfa",
   "metadata": {},
   "source": [
    "# Computer Vision \n",
    "## Image Transformation using OpenCV\n",
    "\n",
    "### What is image transformation ?\n",
    "\n",
    "Image Transformation involves the transformation of image data in order to retrieve information from image or preprocess image for further usage.\n",
    "\n",
    "Implemetations:\n",
    "\n",
    "Image Translation\n",
    "\n",
    "Reflection \n",
    "\n",
    "Rotation \n",
    "\n",
    "Scaling \n",
    "\n",
    "Cropping \n",
    "\n",
    "Shearing in x-axis\n",
    "\n",
    "Shearing in y-axis"
   ]
  },
  {
   "cell_type": "code",
   "execution_count": 17,
   "id": "5dfd0c19",
   "metadata": {
    "ExecuteTime": {
     "end_time": "2023-08-21T15:01:08.889164Z",
     "start_time": "2023-08-21T15:01:06.393396Z"
    }
   },
   "outputs": [],
   "source": [
    "import numpy as np \n",
    "import cv2\n",
    "image = cv2.imread(r\"C:\\Users\\pcc\\Desktop\\DSC_3073.JPG\",0)\n",
    "if image is not None:\n",
    "    image=cv2.resize(image,(500,500))\n",
    "    cv2.imshow(\"Image\",image)\n",
    "    cv2.waitKey(0)\n",
    "else:\n",
    "    print(\"Image is uploaded proprely.\")"
   ]
  },
  {
   "cell_type": "code",
   "execution_count": 18,
   "id": "7492b5f3",
   "metadata": {
    "ExecuteTime": {
     "end_time": "2023-08-21T15:01:10.732785Z",
     "start_time": "2023-08-21T15:01:10.717166Z"
    }
   },
   "outputs": [
    {
     "name": "stdout",
     "output_type": "stream",
     "text": [
      "500 500\n"
     ]
    }
   ],
   "source": [
    "rows,cols=image.shape\n",
    "print(rows,cols)"
   ]
  },
  {
   "cell_type": "markdown",
   "id": "d3a8fc61",
   "metadata": {},
   "source": [
    "### Image Transformation"
   ]
  },
  {
   "cell_type": "code",
   "execution_count": 31,
   "id": "e8b2c558",
   "metadata": {
    "ExecuteTime": {
     "end_time": "2023-08-21T15:09:28.001497Z",
     "start_time": "2023-08-21T15:09:26.299365Z"
    }
   },
   "outputs": [],
   "source": [
    "M= np.float32([[1,0,100],[0,1,50]])\n",
    "dst= cv2.warpAffine(image, M, (cols, rows))\n",
    "cv2.imshow(\"Image\",dst)\n",
    "cv2.waitKey(0)\n",
    "cv2.destroyAllWindows()"
   ]
  },
  {
   "cell_type": "markdown",
   "id": "75cb18bb",
   "metadata": {},
   "source": [
    "Transformation takes place using \"warpAffine\": \n",
    "\n",
    "In first we take x=100 that tells function to shift the image 100 units on right side and y=50 which tells to shift the image 50 units downwards."
   ]
  },
  {
   "cell_type": "markdown",
   "id": "1849d39f",
   "metadata": {},
   "source": [
    "### Image Reflection\n",
    "\n",
    "Image reflection is used to flip the image vertically or horizontally. For reflection along the x-axis, we set the value of Sy to -1, Sx to 1 abd vice-versa for y-axis reflection."
   ]
  },
  {
   "cell_type": "code",
   "execution_count": 40,
   "id": "409cc8ce",
   "metadata": {
    "ExecuteTime": {
     "end_time": "2023-08-21T15:21:40.989983Z",
     "start_time": "2023-08-21T15:21:38.262952Z"
    }
   },
   "outputs": [],
   "source": [
    "# Horizontally flip\n",
    "M= np.float32([[1,0,0],\n",
    "              [0,-1,rows],\n",
    "              [0,0,1]])\n",
    "reflected_img= cv2.warpPerspective(image,M, (int(cols),int(rows)))\n",
    "cv2.imshow(\"image\",reflected_img)\n",
    "cv2.waitKey(0)\n",
    "cv2.destroyAllWindows()"
   ]
  },
  {
   "cell_type": "code",
   "execution_count": 37,
   "id": "f0a789fd",
   "metadata": {
    "ExecuteTime": {
     "end_time": "2023-08-21T15:21:05.655066Z",
     "start_time": "2023-08-21T15:21:03.933380Z"
    }
   },
   "outputs": [],
   "source": [
    "# Vertical flip \n",
    "M= np.float32([[-1,0,cols],\n",
    "              [0,1,0],\n",
    "              [0,0,1]])\n",
    "reflected_img= cv2.warpPerspective(image,M, (int(cols),int(rows)))\n",
    "cv2.imshow(\"image\",reflected_img)\n",
    "cv2.waitKey(0)\n",
    "cv2.destroyAllWindows()"
   ]
  },
  {
   "cell_type": "markdown",
   "id": "581eaaf8",
   "metadata": {},
   "source": [
    "### Image Rotation"
   ]
  },
  {
   "cell_type": "code",
   "execution_count": 58,
   "id": "dfcf74dd",
   "metadata": {
    "ExecuteTime": {
     "end_time": "2023-08-21T15:35:31.073002Z",
     "start_time": "2023-08-21T15:32:03.854325Z"
    }
   },
   "outputs": [],
   "source": [
    "M= np.float32([[1,0,0],[0,-1,rows],[0,0,1]])\n",
    "img_rotation= cv2.warpAffine(image,cv2.getRotationMatrix2D((cols/2,rows/2),30,0.6),(cols,rows))\n",
    "cv2.imshow(\"image\",img_rotation)\n",
    "cv2.imwrite(\"Rotation_output.jpg\",img_rotation)\n",
    "cv2.waitKey(0)\n",
    "cv2.destroyAllWindows()"
   ]
  },
  {
   "cell_type": "markdown",
   "id": "4e47549a",
   "metadata": {},
   "source": [
    "we have used the get rotation matrix function to define the parameter required in the wrapAffine function to tell the function to make a matrix that can give a required rotation angle (here 30 degree) with shrinkage of image by 40%."
   ]
  },
  {
   "cell_type": "markdown",
   "id": "5a69ffab",
   "metadata": {},
   "source": [
    "### Image Scaling"
   ]
  },
  {
   "cell_type": "code",
   "execution_count": 75,
   "id": "caf6f992",
   "metadata": {
    "ExecuteTime": {
     "end_time": "2023-08-21T15:42:03.736414Z",
     "start_time": "2023-08-21T15:41:55.485186Z"
    }
   },
   "outputs": [],
   "source": [
    "# Shrinking an image\n",
    "img_shrinked = cv2.resize(image,(350,300),interpolation= cv2.INTER_AREA)\n",
    "cv2.imshow(\"image\",img_shrinked)\n",
    "cv2.waitKey(0)\n",
    "cv2.destroyAllWindows()"
   ]
  },
  {
   "cell_type": "code",
   "execution_count": 76,
   "id": "e09f5e53",
   "metadata": {
    "ExecuteTime": {
     "end_time": "2023-08-21T15:44:05.195913Z",
     "start_time": "2023-08-21T15:44:00.505211Z"
    }
   },
   "outputs": [],
   "source": [
    "# Enlarging Image\n",
    "img_enlarged = cv2.resize(img_shrinked, None,fx=1.5,fy=1.5, interpolation= cv2.INTER_CUBIC)\n",
    "cv2.imshow(\"image\",img_enlarged)\n",
    "cv2.waitKey(0)\n",
    "cv2.destroyAllWindows()"
   ]
  },
  {
   "cell_type": "code",
   "execution_count": 77,
   "id": "3288c5b5",
   "metadata": {
    "ExecuteTime": {
     "end_time": "2023-08-21T15:45:23.197940Z",
     "start_time": "2023-08-21T15:45:20.894019Z"
    }
   },
   "outputs": [],
   "source": [
    "# Enlarging Image\n",
    "img_enlarged = cv2.resize(img_shrinked, (500,500), interpolation= cv2.INTER_CUBIC)\n",
    "cv2.imshow(\"image\",img_enlarged)\n",
    "cv2.waitKey(0)\n",
    "cv2.destroyAllWindows()"
   ]
  },
  {
   "cell_type": "markdown",
   "id": "29fc6c52",
   "metadata": {},
   "source": [
    "### Image Cropping "
   ]
  },
  {
   "cell_type": "code",
   "execution_count": 82,
   "id": "d579b827",
   "metadata": {
    "ExecuteTime": {
     "end_time": "2023-08-21T15:48:53.155367Z",
     "start_time": "2023-08-21T15:48:51.298541Z"
    }
   },
   "outputs": [],
   "source": [
    "cropping_image= image[100:400,100:400]\n",
    "cv2.imshow(\"image\",cropping_image)\n",
    "cv2.waitKey(0)\n",
    "cv2.destroyAllWindows()"
   ]
  },
  {
   "cell_type": "markdown",
   "id": "c355cf9a",
   "metadata": {},
   "source": [
    "### Image Shearing in X- axis\n",
    "\n",
    "While the shearing in x-axis, the boundaries of the image that are parallel to the x-axis keep their location, the edges parallel to the y-axis changes their place depending on the shearing factor."
   ]
  },
  {
   "cell_type": "code",
   "execution_count": 83,
   "id": "5d571789",
   "metadata": {
    "ExecuteTime": {
     "end_time": "2023-08-21T15:54:29.662036Z",
     "start_time": "2023-08-21T15:54:23.797615Z"
    }
   },
   "outputs": [],
   "source": [
    "M= np.float32([[1,0.5,0],[0,1,0],[0,0,1]])\n",
    "sheared_img= cv2.warpPerspective(image, M, (int(cols*1.5),int(rows*1.5)))\n",
    "cv2.imshow(\"image\",sheared_img)\n",
    "cv2.waitKey(0)\n",
    "cv2.destroyAllWindows()"
   ]
  },
  {
   "cell_type": "markdown",
   "id": "82324cc6",
   "metadata": {
    "run_control": {
     "marked": false
    }
   },
   "source": [
    "### Image Shearing in Y-axis"
   ]
  },
  {
   "cell_type": "code",
   "execution_count": 86,
   "id": "d8a15dae",
   "metadata": {
    "ExecuteTime": {
     "end_time": "2023-08-21T15:56:04.871736Z",
     "start_time": "2023-08-21T15:56:02.077600Z"
    }
   },
   "outputs": [],
   "source": [
    "M= np.float32([[1,0,0],[0.5,1,0],[0,0,1]])\n",
    "sheared_img= cv2.warpPerspective(image, M, (int(cols*1.5),int(rows*1.5)))\n",
    "cv2.imshow(\"image\",sheared_img)\n",
    "cv2.waitKey(0)\n",
    "cv2.destroyAllWindows()"
   ]
  },
  {
   "cell_type": "markdown",
   "id": "1082b63b",
   "metadata": {},
   "source": [
    "In the code you provided, a 2D transformation matrix `M` is used to apply a perspective transformation to an image using the OpenCV library in Python. The `cv2.warpPerspective` function is used to perform this transformation.\n",
    "\n",
    "The transformation matrix `M` you defined is a 3x3 matrix used for perspective transformations. It seems like you want to shear the image along the y-axis by a factor of 0.5. The matrix `M` is structured as follows:\n",
    "\n",
    "```\n",
    "M = | 1   0   0 |\n",
    "    | 0.5 1   0 |\n",
    "    | 0   0   1 |\n",
    "```\n",
    "\n",
    "Let's break down the transformation matrix and the multiplication factor of 1.5 for the image dimensions:\n",
    "\n",
    "1. The first row of `M` remains unchanged, which means there is no change along the x-axis (horizontal direction).\n",
    "\n",
    "2. The second row of `M` represents the shear transformation. Specifically, the factor of 0.5 in the second row indicates that each y-coordinate (vertical position) of the image is shifted by half of its corresponding x-coordinate. This creates a shearing effect along the y-axis.\n",
    "\n",
    "3. The third row of `M` is an identity row, which means no changes are applied to the z-axis (depth).\n",
    "\n",
    "Now, regarding the multiplication factor of 1.5 for the image dimensions (`cols` and `rows`):\n",
    "\n",
    "By multiplying the original width (`cols`) and height (`rows`) of the image by 1.5, you are effectively scaling the image to 1.5 times its original size along both dimensions. This scaling ensures that the transformed image has enough space to accommodate the sheared content without clipping any parts of it.\n",
    "\n",
    "Overall, the code you provided applies a shear transformation along the y-axis to the input image and scales the output image dimensions to 1.5 times the original dimensions to accommodate the transformed content."
   ]
  },
  {
   "cell_type": "markdown",
   "id": "ddb40b5b",
   "metadata": {},
   "source": [
    "..."
   ]
  },
  {
   "cell_type": "markdown",
   "id": "a86603b3",
   "metadata": {},
   "source": [
    "In the context of computer graphics and image processing, the transformation matrix `M` can be defined differently to achieve various geometric transformations. Each type of transformation corresponds to a different arrangement of values in the transformation matrix. Here are some common geometric transformations and their corresponding transformation matrices:\n",
    "\n",
    "1. **Translation**:\n",
    "Translation shifts an object in the image by a certain amount along the x and y axes.\n",
    "\n",
    "   ```\n",
    "   M = | 1  0  tx |\n",
    "       | 0  1  ty |\n",
    "       | 0  0   1 |\n",
    "   ```\n",
    "\n",
    "   Here, `(tx, ty)` represents the translation along the x and y axes, respectively.\n",
    "\n",
    "2. **Scaling**:\n",
    "Scaling changes the size of an object by a factor along the x and y axes.\n",
    "\n",
    "   ```\n",
    "   M = | sx  0  0 |\n",
    "       | 0  sy  0 |\n",
    "       | 0   0  1 |\n",
    "   ```\n",
    "\n",
    "   Here, `(sx, sy)` represents the scaling factors along the x and y axes, respectively.\n",
    "\n",
    "3. **Rotation**:\n",
    "Rotation rotates an object by a certain angle around a specified point.\n",
    "\n",
    "   ```\n",
    "   M = | cosθ  -sinθ  0 |\n",
    "       | sinθ   cosθ  0 |\n",
    "       |  0      0    1 |\n",
    "   ```\n",
    "\n",
    "   Here, `θ` represents the rotation angle in radians.\n",
    "\n",
    "4. **Shearing**:\n",
    "Shearing skews an object by a certain amount along the x and y axes.\n",
    "\n",
    "   ```\n",
    "   M = | 1  shx  0 |\n",
    "       | shy  1   0 |\n",
    "       | 0   0   1 |\n",
    "   ```\n",
    "\n",
    "   Here, `(shx, shy)` represents the shearing factors along the x and y axes, respectively.\n",
    "\n",
    "5. **Perspective Transformation**:\n",
    "Perspective transformations involve 3D projections and are used to simulate the effects of viewing a 3D scene from a certain point.\n",
    "\n",
    "   ```\n",
    "   M = | m11  m12  m13 |\n",
    "       | m21  m22  m23 |\n",
    "       | m31  m32  m33 |\n",
    "   ```\n",
    "\n",
    "   The elements `m11`, `m12`, ..., `m33` are determined based on the specific perspective transformation you want to achieve.\n",
    "\n",
    "For each type of transformation, you can define the appropriate values in the transformation matrix `M`. The specific values depend on the parameters of the transformation you want to apply. Once you have defined the matrix `M`, you can use it with functions like `cv2.warpPerspective` in OpenCV to apply the transformation to an image."
   ]
  }
 ],
 "metadata": {
  "hide_input": false,
  "kernelspec": {
   "display_name": "Python 3 (ipykernel)",
   "language": "python",
   "name": "python3"
  },
  "language_info": {
   "codemirror_mode": {
    "name": "ipython",
    "version": 3
   },
   "file_extension": ".py",
   "mimetype": "text/x-python",
   "name": "python",
   "nbconvert_exporter": "python",
   "pygments_lexer": "ipython3",
   "version": "3.9.7"
  }
 },
 "nbformat": 4,
 "nbformat_minor": 5
}
