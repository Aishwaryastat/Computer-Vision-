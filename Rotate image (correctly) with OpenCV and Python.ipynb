{
 "cells": [
  {
   "cell_type": "code",
   "execution_count": 1,
   "id": "7c336563",
   "metadata": {
    "ExecuteTime": {
     "end_time": "2023-08-18T12:47:29.152556Z",
     "start_time": "2023-08-18T12:47:29.125231Z"
    },
    "scrolled": true
   },
   "outputs": [],
   "source": [
    "#! pip install cv2 -- user\n",
    "# pip install imutils"
   ]
  },
  {
   "cell_type": "code",
   "execution_count": 1,
   "id": "87ef9e4b",
   "metadata": {
    "ExecuteTime": {
     "end_time": "2023-08-18T12:26:08.148366Z",
     "start_time": "2023-08-18T12:26:00.620948Z"
    }
   },
   "outputs": [],
   "source": [
    "# Import Library\n",
    "import cv2 \n",
    "import imutils\n",
    "import numpy as np "
   ]
  },
  {
   "cell_type": "code",
   "execution_count": 2,
   "id": "d3468a67",
   "metadata": {
    "ExecuteTime": {
     "end_time": "2023-08-18T11:36:13.388540Z",
     "start_time": "2023-08-18T11:36:12.331364Z"
    }
   },
   "outputs": [
    {
     "name": "stdout",
     "output_type": "stream",
     "text": [
      "[[[185 192 201]\n",
      "  [185 192 201]\n",
      "  [186 193 202]\n",
      "  ...\n",
      "  [198 204 211]\n",
      "  [198 204 209]\n",
      "  [195 204 207]]\n",
      "\n",
      " [[187 194 203]\n",
      "  [187 194 203]\n",
      "  [187 194 203]\n",
      "  ...\n",
      "  [198 204 211]\n",
      "  [196 202 207]\n",
      "  [195 204 207]]\n",
      "\n",
      " [[187 194 203]\n",
      "  [187 194 203]\n",
      "  [188 195 204]\n",
      "  ...\n",
      "  [197 203 208]\n",
      "  [197 203 210]\n",
      "  [197 204 207]]\n",
      "\n",
      " ...\n",
      "\n",
      " [[169 173 178]\n",
      "  [171 173 183]\n",
      "  [169 172 180]\n",
      "  ...\n",
      "  [172 174 184]\n",
      "  [171 176 185]\n",
      "  [171 177 184]]\n",
      "\n",
      " [[173 175 183]\n",
      "  [171 173 181]\n",
      "  [170 172 182]\n",
      "  ...\n",
      "  [170 175 184]\n",
      "  [170 175 184]\n",
      "  [168 176 183]]\n",
      "\n",
      " [[172 174 182]\n",
      "  [172 174 182]\n",
      "  [169 171 181]\n",
      "  ...\n",
      "  [171 176 185]\n",
      "  [168 175 184]\n",
      "  [168 176 183]]]\n"
     ]
    }
   ],
   "source": [
    "image = cv2.imread(r\"C:\\Users\\pcc\\Desktop\\DSC_3073.JPG\")\n",
    "print(image)  # Print the image array"
   ]
  },
  {
   "cell_type": "code",
   "execution_count": 2,
   "id": "82b537e6",
   "metadata": {
    "ExecuteTime": {
     "end_time": "2023-08-18T12:26:33.541327Z",
     "start_time": "2023-08-18T12:26:18.431280Z"
    }
   },
   "outputs": [],
   "source": [
    "image=cv2.imread(r\"C:\\Users\\pcc\\Desktop\\DSC_3073.JPG\")\n",
    "if image is not None:\n",
    "    image=cv2.resize(image,(500,500))\n",
    "    cv2.imshow(\"Image\",image)\n",
    "    cv2.waitKey(0)\n",
    "    cv2.destroyAllWindows()\n",
    "    \n",
    "else:\n",
    "    print(\"Image not loaded properly.\")"
   ]
  },
  {
   "cell_type": "code",
   "execution_count": 20,
   "id": "d96a2d3a",
   "metadata": {
    "ExecuteTime": {
     "end_time": "2023-08-18T11:30:34.296562Z",
     "start_time": "2023-08-18T11:29:21.206157Z"
    }
   },
   "outputs": [],
   "source": [
    "# Rotate image using \"rotate\"\n",
    "for angle in np.arange(0,360,15):\n",
    "    rotated=imutils.rotate(image,angle)\n",
    "    cv2.imshow(\"Rotated_image\",rotated)\n",
    "    cv2.waitKey(0)"
   ]
  },
  {
   "cell_type": "code",
   "execution_count": 4,
   "id": "ec90b17c",
   "metadata": {
    "ExecuteTime": {
     "end_time": "2023-08-18T11:35:38.448177Z",
     "start_time": "2023-08-18T11:34:25.652206Z"
    }
   },
   "outputs": [],
   "source": [
    "# Rotate image using \"rotate_bound\"\n",
    "for angle in np.arange(0,360,15):   # 15 degree increment\n",
    "    rotated=imutils.rotate_bound(image,angle)\n",
    "    cv2.imshow(\"rotated\",rotated)\n",
    "    cv2.waitKey(3000)\n",
    "    "
   ]
  },
  {
   "cell_type": "code",
   "execution_count": 10,
   "id": "5e0a884b",
   "metadata": {
    "ExecuteTime": {
     "end_time": "2023-08-18T11:56:44.689778Z",
     "start_time": "2023-08-18T11:56:44.668791Z"
    }
   },
   "outputs": [],
   "source": [
    "# Image rotation founction that oesn't cut off image\n",
    "\n",
    "def rotate_bound(image, angle):\n",
    "    # grab dimensions and center of image\n",
    "    (h,w)=image.shape[:2]\n",
    "    (cx,cy)=(w//2,h//2)\n",
    "    \n",
    "    # calculate rotation matrix\n",
    "    M= cv2.getRotationMatrix2D((cx,cy),angle,1)\n",
    "    cos=np.abs(M[0,0])\n",
    "    sin=np.abs(M[0,1])\n",
    "    \n",
    "    # new bounding dimensions\n",
    "    nw=int((h*sin)+(w*cos))\n",
    "    nh=int((h*cos)+(w*sin))\n",
    "    \n",
    "    # adjust rotation matrix\n",
    "    M[0,2] +=(nw/2)-cx\n",
    "    M[1,2]+=(nh/2)-cy\n",
    "    \n",
    "    # perform actural rotation\n",
    "    return cv2.warpAffine(image, M, (nw,nh))"
   ]
  },
  {
   "cell_type": "code",
   "execution_count": 17,
   "id": "d66d820f",
   "metadata": {
    "ExecuteTime": {
     "end_time": "2023-08-18T11:57:32.588787Z",
     "start_time": "2023-08-18T11:57:32.569795Z"
    }
   },
   "outputs": [
    {
     "data": {
      "text/plain": [
       "array([[[189, 196, 205],\n",
       "        [193, 199, 208],\n",
       "        [196, 201, 210],\n",
       "        ...,\n",
       "        [197, 204, 207],\n",
       "        [199, 203, 208],\n",
       "        [196, 204, 206]],\n",
       "\n",
       "       [[193, 201, 210],\n",
       "        [198, 204, 213],\n",
       "        [197, 206, 215],\n",
       "        ...,\n",
       "        [199, 204, 207],\n",
       "        [199, 203, 208],\n",
       "        [198, 202, 207]],\n",
       "\n",
       "       [[198, 203, 212],\n",
       "        [201, 204, 215],\n",
       "        [200, 206, 217],\n",
       "        ...,\n",
       "        [198, 204, 207],\n",
       "        [200, 205, 208],\n",
       "        [198, 203, 206]],\n",
       "\n",
       "       ...,\n",
       "\n",
       "       [[153, 159, 166],\n",
       "        [151, 157, 165],\n",
       "        [149, 157, 164],\n",
       "        ...,\n",
       "        [174, 178, 185],\n",
       "        [173, 179, 185],\n",
       "        [174, 180, 186]],\n",
       "\n",
       "       [[161, 167, 175],\n",
       "        [157, 164, 171],\n",
       "        [155, 163, 171],\n",
       "        ...,\n",
       "        [173, 176, 185],\n",
       "        [174, 177, 185],\n",
       "        [176, 176, 185]],\n",
       "\n",
       "       [[167, 170, 178],\n",
       "        [167, 170, 181],\n",
       "        [166, 169, 177],\n",
       "        ...,\n",
       "        [173, 176, 184],\n",
       "        [174, 177, 186],\n",
       "        [173, 177, 185]]], dtype=uint8)"
      ]
     },
     "execution_count": 17,
     "metadata": {},
     "output_type": "execute_result"
    }
   ],
   "source": [
    "angle=(360)\n",
    "rotate_bound(image,angle)"
   ]
  },
  {
   "cell_type": "code",
   "execution_count": 3,
   "id": "6cbbd01a",
   "metadata": {
    "ExecuteTime": {
     "end_time": "2023-08-18T12:26:42.760531Z",
     "start_time": "2023-08-18T12:26:40.811959Z"
    }
   },
   "outputs": [
    {
     "data": {
      "text/plain": [
       "-1"
      ]
     },
     "execution_count": 3,
     "metadata": {},
     "output_type": "execute_result"
    }
   ],
   "source": [
    "# fixing the rotated image \"cut off\" problem with opencv and python\n",
    "\n",
    "gray=cv2.cvtColor(image,cv2.COLOR_BGR2GRAY)\n",
    "gray=cv2.GaussianBlur(gray,(3,3),0)\n",
    "edge=cv2.Canny(gray,20,100)\n",
    "cv2.imshow(\"a\",edge)\n",
    "cv2.waitKey(0)"
   ]
  },
  {
   "cell_type": "code",
   "execution_count": 4,
   "id": "80f20411",
   "metadata": {
    "ExecuteTime": {
     "end_time": "2023-08-18T12:26:45.287916Z",
     "start_time": "2023-08-18T12:26:45.269906Z"
    }
   },
   "outputs": [],
   "source": [
    "# find the comtours in the edge map\n",
    "\n",
    "cnts=cv2.findContours(edge.copy(),cv2.RETR_EXTERNAL,cv2.CHAIN_APPROX_SIMPLE)\n",
    "cnts=imutils.grab_contours(cnts)"
   ]
  },
  {
   "cell_type": "code",
   "execution_count": 5,
   "id": "94d71b24",
   "metadata": {
    "ExecuteTime": {
     "end_time": "2023-08-18T12:26:48.141556Z",
     "start_time": "2023-08-18T12:26:48.112570Z"
    }
   },
   "outputs": [],
   "source": [
    "if len(cnts)>0:\n",
    "    c=max(cnts,key=cv2.contourArea)\n",
    "    mask=np.zeros(gray.shape,dtype=\"uint8\")\n",
    "    cv2.drawContours(mask,[c],-1,255,-1)\n",
    "    \n",
    "    (x,y,w,h)=cv2.boundingRect(c)\n",
    "    imageROI=image[y:y+h,x:x+w]\n",
    "    maskROI= mask[y:y+h,x:x+w]\n",
    "    imageROI=cv2.bitwise_and(imageROI,imageROI,mask=maskROI)"
   ]
  },
  {
   "cell_type": "code",
   "execution_count": 55,
   "id": "2c89c91d",
   "metadata": {
    "ExecuteTime": {
     "end_time": "2023-08-18T12:21:45.589323Z",
     "start_time": "2023-08-18T12:21:42.095752Z"
    }
   },
   "outputs": [
    {
     "data": {
      "text/plain": [
       "-1"
      ]
     },
     "execution_count": 55,
     "metadata": {},
     "output_type": "execute_result"
    }
   ],
   "source": [
    "cv2.imshow(\"a\",imageROI)\n",
    "cv2.waitKey(0)"
   ]
  },
  {
   "cell_type": "code",
   "execution_count": 56,
   "id": "cbe6da07",
   "metadata": {
    "ExecuteTime": {
     "end_time": "2023-08-18T12:24:41.255214Z",
     "start_time": "2023-08-18T12:23:27.788639Z"
    }
   },
   "outputs": [],
   "source": [
    "for angle in np.arange(0,360,15):\n",
    "    rotated= imutils.rotate(imageROI,angle)\n",
    "    cv2.imshow(\"image\",rotated)\n",
    "    cv2.waitKey(3000)"
   ]
  },
  {
   "cell_type": "code",
   "execution_count": 6,
   "id": "70800be4",
   "metadata": {
    "ExecuteTime": {
     "end_time": "2023-08-18T12:27:18.906309Z",
     "start_time": "2023-08-18T12:26:54.489807Z"
    }
   },
   "outputs": [],
   "source": [
    "for angle in np.arange(0,360,15):\n",
    "    rotated= imutils.rotate_bound(imageROI,angle)\n",
    "    cv2.imshow(\"image\",rotated)\n",
    "    cv2.waitKey(1000)"
   ]
  }
 ],
 "metadata": {
  "hide_input": false,
  "kernelspec": {
   "display_name": "Python 3 (ipykernel)",
   "language": "python",
   "name": "python3"
  },
  "language_info": {
   "codemirror_mode": {
    "name": "ipython",
    "version": 3
   },
   "file_extension": ".py",
   "mimetype": "text/x-python",
   "name": "python",
   "nbconvert_exporter": "python",
   "pygments_lexer": "ipython3",
   "version": "3.9.7"
  }
 },
 "nbformat": 4,
 "nbformat_minor": 5
}
